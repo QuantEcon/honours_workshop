{
 "cells": [
  {
   "cell_type": "markdown",
   "metadata": {},
   "source": [
    "# Intro to Python"
   ]
  },
  {
   "cell_type": "markdown",
   "metadata": {},
   "source": [
    "## Introductory Example (White Noise Process)\n",
    " \n",
    "Lets break down a simple program to see how it works - then we can discuss each component of the program to build our knowledge of Python"
   ]
  },
  {
   "cell_type": "code",
   "execution_count": 23,
   "metadata": {},
   "outputs": [
    {
     "data": {
      "image/png": "[encoded data removed]",
      "text/plain": [
       "<matplotlib.figure.Figure at 0x11bb1c898>"
      ]
     },
     "metadata": {},
     "output_type": "display_data"
    }
   ],
   "source": [
    "from random import normalvariate\n",
    "import matplotlib.pyplot as plt\n",
    "\n",
    "ts_length = 100\n",
    "epsilon_values = []   # An empty list\n",
    "for i in range(ts_length):\n",
    "    e = normalvariate(0, 1)   # Draw epsilon from normal distribution\n",
    "    epsilon_values.append(e)  # Add random draw to list\n",
    "plt.plot(epsilon_values)\n",
    "plt.show()"
   ]
  },
  {
   "cell_type": "markdown",
   "metadata": {},
   "source": [
    "# Components of this Program\n",
    "\n",
    "1. Import Statements\n",
    "1. Variable Assignments\n",
    "1. Looping\n",
    "1. Plotting"
   ]
  },
  {
   "cell_type": "markdown",
   "metadata": {},
   "source": [
    "## [Lines 1 - 2] Import statements"
   ]
  },
  {
   "cell_type": "markdown",
   "metadata": {},
   "source": [
    "* The base Python package contains minimal functionality\n",
    "* To do something more interesting, we'll need to import packages\n",
    "* A **package** is collection of Python scripts (or **modules**) that contains functions, classes, etc."
   ]
  },
  {
   "cell_type": "markdown",
   "metadata": {},
   "source": [
    "We can import functions or subpackages from a package like so"
   ]
  },
  {
   "cell_type": "code",
   "execution_count": 24,
   "metadata": {
    "collapsed": true
   },
   "outputs": [],
   "source": [
    "from random import normalvariate"
   ]
  },
  {
   "cell_type": "markdown",
   "metadata": {},
   "source": [
    "This imports the `normalvariate` function from the random package. \n",
    "\n",
    "Try running\n",
    "\n",
    "```\n",
    "normalvariate?\n",
    "```"
   ]
  },
  {
   "cell_type": "code",
   "execution_count": null,
   "metadata": {
    "collapsed": true
   },
   "outputs": [],
   "source": []
  },
  {
   "cell_type": "markdown",
   "metadata": {},
   "source": [
    "We can also import the entire package as"
   ]
  },
  {
   "cell_type": "code",
   "execution_count": 25,
   "metadata": {
    "collapsed": true
   },
   "outputs": [],
   "source": [
    "import random"
   ]
  },
  {
   "cell_type": "markdown",
   "metadata": {},
   "source": [
    "Try running `random.normalvariate?`"
   ]
  },
  {
   "cell_type": "code",
   "execution_count": null,
   "metadata": {
    "collapsed": true
   },
   "outputs": [],
   "source": []
  },
  {
   "cell_type": "markdown",
   "metadata": {},
   "source": [
    "We can import a package using a name we'd like"
   ]
  },
  {
   "cell_type": "code",
   "execution_count": 26,
   "metadata": {
    "collapsed": true
   },
   "outputs": [],
   "source": [
    "import random as rd"
   ]
  },
  {
   "cell_type": "markdown",
   "metadata": {
    "collapsed": true
   },
   "source": [
    "This imports the package and allows us to access it with the name `rd`\n",
    "\n",
    "Try running `rd.normalvariate?`"
   ]
  },
  {
   "cell_type": "code",
   "execution_count": null,
   "metadata": {
    "collapsed": true
   },
   "outputs": [],
   "source": []
  },
  {
   "cell_type": "markdown",
   "metadata": {},
   "source": [
    "## [Lines 3 - 4] Variable Assignment"
   ]
  },
  {
   "cell_type": "markdown",
   "metadata": {},
   "source": [
    "The following line assigns the variable name `ts_length` to an integer"
   ]
  },
  {
   "cell_type": "code",
   "execution_count": 27,
   "metadata": {
    "collapsed": true
   },
   "outputs": [],
   "source": [
    "ts_length = 100"
   ]
  },
  {
   "cell_type": "code",
   "execution_count": 28,
   "metadata": {},
   "outputs": [
    {
     "data": {
      "text/plain": [
       "100"
      ]
     },
     "execution_count": 28,
     "metadata": {},
     "output_type": "execute_result"
    }
   ],
   "source": [
    "ts_length"
   ]
  },
  {
   "cell_type": "markdown",
   "metadata": {},
   "source": [
    "We can view the variable **type** like so"
   ]
  },
  {
   "cell_type": "code",
   "execution_count": 29,
   "metadata": {},
   "outputs": [
    {
     "data": {
      "text/plain": [
       "int"
      ]
     },
     "execution_count": 29,
     "metadata": {},
     "output_type": "execute_result"
    }
   ],
   "source": [
    "type(ts_length)"
   ]
  },
  {
   "cell_type": "markdown",
   "metadata": {},
   "source": [
    "The **type** indicates the type of data, ie. whether it's an integer, a float, a string, etc\n",
    "\n",
    "We can create a list (a collection of objects) in Python using square brackets\n",
    "\n",
    "* **Note:** We will usually use [NumPy arrays](https://lectures.quantecon.org/py/numpy.html#numpy-arrays) instead of lists, which will be covered tomorrow\n",
    "\n",
    "The next line creates a list and assigns it to the variable name `epsilon_values`"
   ]
  },
  {
   "cell_type": "code",
   "execution_count": 30,
   "metadata": {
    "collapsed": true
   },
   "outputs": [],
   "source": [
    "epsilon_values = []  # An empty list"
   ]
  },
  {
   "cell_type": "code",
   "execution_count": 31,
   "metadata": {},
   "outputs": [
    {
     "data": {
      "text/plain": [
       "list"
      ]
     },
     "execution_count": 31,
     "metadata": {},
     "output_type": "execute_result"
    }
   ],
   "source": [
    "type(epsilon_values)"
   ]
  },
  {
   "cell_type": "code",
   "execution_count": 32,
   "metadata": {},
   "outputs": [
    {
     "data": {
      "text/plain": [
       "[]"
      ]
     },
     "execution_count": 32,
     "metadata": {},
     "output_type": "execute_result"
    }
   ],
   "source": [
    "epsilon_values"
   ]
  },
  {
   "cell_type": "markdown",
   "metadata": {},
   "source": [
    "Notice that we have also **commented** our code\n",
    "\n",
    "* Comments are written using #\n",
    "* Code following a hash symbol is not executed\n",
    "* Commenting is important for writing good code"
   ]
  },
  {
   "cell_type": "markdown",
   "metadata": {},
   "source": [
    "## [Line 5] Loops\n",
    "\n",
    "Loops are useful for performing an action multiple times. \n",
    "\n",
    "In this case we want to loop ``100`` times to generate a time series that is ``100`` elements long.\n",
    "\n",
    "Each step of the loop we will want to obtain a random value and then add it to the sequence of values in the list object that we have created."
   ]
  },
  {
   "cell_type": "code",
   "execution_count": 33,
   "metadata": {
    "collapsed": true
   },
   "outputs": [],
   "source": [
    "for i in range(ts_length):\n",
    "    e = normalvariate(0, 1)   # Draw epsilon from normal distribution\n",
    "    epsilon_values.append(e)  # Add random draw to list"
   ]
  },
  {
   "cell_type": "code",
   "execution_count": 34,
   "metadata": {},
   "outputs": [
    {
     "data": {
      "text/plain": [
       "100"
      ]
     },
     "execution_count": 34,
     "metadata": {},
     "output_type": "execute_result"
    }
   ],
   "source": [
    "len(epsilon_values)"
   ]
  },
  {
   "cell_type": "markdown",
   "metadata": {},
   "source": [
    "As you can see Python knows what code belongs to the loop because of the colon and **white-space** indentation\n",
    "\n",
    "There is no `end` to indicate the end of a line space\n",
    "\n",
    "Each iteration executes both indented lines\n",
    "\n",
    "White-space in Python is very important (other programming languages use different syntax)"
   ]
  },
  {
   "cell_type": "markdown",
   "metadata": {},
   "source": [
    "**Question: ** What is the length of `delta_values` in the following piece of code?"
   ]
  },
  {
   "cell_type": "code",
   "execution_count": 35,
   "metadata": {
    "collapsed": true
   },
   "outputs": [],
   "source": [
    "delta_values = []\n",
    "\n",
    "for i in range(ts_length):\n",
    "    d = normalvariate(0, 1)\n",
    "delta_values.append(d)"
   ]
  },
  {
   "cell_type": "markdown",
   "metadata": {},
   "source": [
    "**Question:** Why is the variable **i** = 99?"
   ]
  },
  {
   "cell_type": "code",
   "execution_count": 36,
   "metadata": {},
   "outputs": [
    {
     "data": {
      "text/plain": [
       "99"
      ]
     },
     "execution_count": 36,
     "metadata": {},
     "output_type": "execute_result"
    }
   ],
   "source": [
    "i"
   ]
  },
  {
   "cell_type": "markdown",
   "metadata": {},
   "source": [
    "In Python, counting starts from 0.\n",
    "\n",
    "Many statistical packages (such as `Julia` or `Matlab`) choose to be **``1``** based when counting. "
   ]
  },
  {
   "cell_type": "code",
   "execution_count": 37,
   "metadata": {
    "scrolled": true
   },
   "outputs": [
    {
     "data": {
      "text/plain": [
       "[0, 1, 2, 3, 4, 5, 6, 7, 8, 9]"
      ]
     },
     "execution_count": 37,
     "metadata": {},
     "output_type": "execute_result"
    }
   ],
   "source": [
    "list(range(10))"
   ]
  },
  {
   "cell_type": "markdown",
   "metadata": {},
   "source": [
    "Then the program moves on to using the ``plt`` library to draw a picture for us."
   ]
  },
  {
   "cell_type": "code",
   "execution_count": 38,
   "metadata": {},
   "outputs": [
    {
     "data": {
      "image/png": "[encoded data removed]",
      "text/plain": [
       "<matplotlib.figure.Figure at 0x11c0f9710>"
      ]
     },
     "metadata": {},
     "output_type": "display_data"
    }
   ],
   "source": [
    "plt.plot(epsilon_values)\n",
    "plt.show()"
   ]
  },
  {
   "cell_type": "markdown",
   "metadata": {},
   "source": [
    "# Python Essentials"
   ]
  },
  {
   "cell_type": "markdown",
   "metadata": {},
   "source": [
    "Reading: https://lectures.quantecon.org/py/python_essentials.html"
   ]
  },
  {
   "cell_type": "markdown",
   "metadata": {},
   "source": [
    "## User-defined functions\n",
    "\n",
    "We can create our own **function**:\n",
    "* Takes arguments and returns an object (a integer, string, plot, another function, etc.)\n",
    "* Allows you to run similar code without rewriting the entire program"
   ]
  },
  {
   "cell_type": "code",
   "execution_count": 39,
   "metadata": {
    "collapsed": true
   },
   "outputs": [],
   "source": [
    "def add_numbers(a, b):\n",
    "    return a + b"
   ]
  },
  {
   "cell_type": "code",
   "execution_count": 40,
   "metadata": {},
   "outputs": [
    {
     "data": {
      "text/plain": [
       "6"
      ]
     },
     "execution_count": 40,
     "metadata": {},
     "output_type": "execute_result"
    }
   ],
   "source": [
    "add_numbers(2, 4)"
   ]
  },
  {
   "cell_type": "code",
   "execution_count": 41,
   "metadata": {
    "collapsed": true
   },
   "outputs": [],
   "source": [
    "def white_noise(mu, sigma, ts_length=100):\n",
    "    epsilon_values = []               # An empty list\n",
    "    for i in range(ts_length):\n",
    "        e = normalvariate(mu, sigma)  # Draw random shock\n",
    "        epsilon_values.append(e)\n",
    "    plt.plot(epsilon_values)\n",
    "    plt.show()"
   ]
  },
  {
   "cell_type": "markdown",
   "metadata": {},
   "source": [
    "* This function `white_noise` takes three arguments: `mu`, `sigma`, and `ts_length`\n",
    "* Note that we didn't use `return` - Python will return the last object by default\n",
    "* `mu` and `sigma` are **positional arguments**\n",
    "    * Order of arguments is important when calling the function"
   ]
  },
  {
   "cell_type": "code",
   "execution_count": 42,
   "metadata": {},
   "outputs": [
    {
     "data": {
      "image/png": "[encoded data removed]",
      "text/plain": [
       "<matplotlib.figure.Figure at 0x11c106e48>"
      ]
     },
     "metadata": {},
     "output_type": "display_data"
    }
   ],
   "source": [
    "white_noise(0, 100)"
   ]
  },
  {
   "cell_type": "code",
   "execution_count": 43,
   "metadata": {},
   "outputs": [
    {
     "data": {
      "image/png": "[encoded data removed]",
      "text/plain": [
       "<matplotlib.figure.Figure at 0x11ba29cf8>"
      ]
     },
     "metadata": {},
     "output_type": "display_data"
    }
   ],
   "source": [
    "white_noise(100, 0)"
   ]
  },
  {
   "cell_type": "code",
   "execution_count": 44,
   "metadata": {
    "scrolled": true
   },
   "outputs": [
    {
     "ename": "TypeError",
     "evalue": "white_noise() missing 2 required positional arguments: 'mu' and 'sigma'",
     "output_type": "error",
     "traceback": [
      "\u001b[0;31m---------------------------------------------------------------------------\u001b[0m",
      "\u001b[0;31mTypeError\u001b[0m                                 Traceback (most recent call last)",
      "\u001b[0;32m<ipython-input-44-2ab8eb1e7818>\u001b[0m in \u001b[0;36m<module>\u001b[0;34m()\u001b[0m\n\u001b[0;32m----> 1\u001b[0;31m \u001b[0mwhite_noise\u001b[0m\u001b[0;34m(\u001b[0m\u001b[0;34m)\u001b[0m\u001b[0;34m\u001b[0m\u001b[0m\n\u001b[0m",
      "\u001b[0;31mTypeError\u001b[0m: white_noise() missing 2 required positional arguments: 'mu' and 'sigma'"
     ]
    }
   ],
   "source": [
    "white_noise()"
   ]
  },
  {
   "cell_type": "markdown",
   "metadata": {},
   "source": [
    "* `ts_length` is an **keyword argument**\n",
    "    * It is optional\n",
    "    * If no value is specified, it takes a default value of 100"
   ]
  },
  {
   "cell_type": "code",
   "execution_count": 45,
   "metadata": {},
   "outputs": [
    {
     "data": {
      "image/png": "[encoded data removed]",
      "text/plain": [
       "<matplotlib.figure.Figure at 0x11835b160>"
      ]
     },
     "metadata": {},
     "output_type": "display_data"
    }
   ],
   "source": [
    "white_noise(0, 1, ts_length=5)"
   ]
  },
  {
   "cell_type": "markdown",
   "metadata": {},
   "source": [
    "### Exercise\n",
    "\n",
    "Consider the following autoregressive model (AR(1) model)\n",
    "\n",
    "$$\n",
    "y_{t+1} = \\mu (1 - \\rho) + \\rho y_t + \\sigma \\varepsilon_t \\quad \\quad \\varepsilon_t \\sim \\mathcal{N}(0, 1)\n",
    "$$\n",
    "\n",
    "Where:\n",
    "* $\\mu$ is the unconditional mean\n",
    "* $\\rho$ is the persistence parameter\n",
    "* $\\varepsilon_t$ is an i.i.d random shock\n",
    "* $\\sigma$ is the variance\n",
    "\n",
    "** Exercise: ** Write a function called `generate_AR1` that takes `mu`, `sigma`, `rho` and `T` as arguments\n",
    "* `mu`, `sigma`, and `rho` should be positional arguments\n",
    "* `T` should be a keyword argument with a default value of 100\n",
    "* Let $y_0 = 10$\n",
    "\n",
    "The function should **return** a plot of the AR(1) series\n",
    "\n",
    "Use your function to plot a time series of an AR(1) process where `mu=5`, `sigma=1` and `rho=0.8`"
   ]
  },
  {
   "cell_type": "code",
   "execution_count": null,
   "metadata": {
    "scrolled": true
   },
   "outputs": [],
   "source": []
  },
  {
   "cell_type": "markdown",
   "metadata": {},
   "source": [
    "<button data-toggle=\"collapse\" data-target=\"#sol1\" class='btn btn-primary'>Solution</button>\n",
    "<div id=\"sol1\" class=\"collapse\">\n",
    "```python\n",
    "def generate_AR1(mu, sigma, rho, T=100):\n",
    "    y = []\n",
    "    y_0 = 10\n",
    "    y.append(y_0)\n",
    "\n",
    "    for t in range(T-1):\n",
    "        e = normalvariate(0, 1)  # Draw random shock\n",
    "        y_new = mu * (1 - rho) + rho * y[t-1] + sigma * e\n",
    "        y.append(y_new)\n",
    "\n",
    "    plt.plot(y)\n",
    "    plt.show()\n",
    "\n",
    "generate_AR1(3, 1, 0.8)\n",
    "```"
   ]
  },
  {
   "cell_type": "markdown",
   "metadata": {},
   "source": [
    "## Conditional Statements"
   ]
  },
  {
   "cell_type": "markdown",
   "metadata": {
    "collapsed": true
   },
   "source": [
    "We can create **if/else statements** in our code, which will tell Python what to execute based on a condition"
   ]
  },
  {
   "cell_type": "code",
   "execution_count": 46,
   "metadata": {
    "collapsed": true
   },
   "outputs": [],
   "source": [
    "def greater_than_two(x):\n",
    "    if x > 2:\n",
    "        print('x is greater than 2')\n",
    "    else:\n",
    "        print('x is less than 2')"
   ]
  },
  {
   "cell_type": "code",
   "execution_count": 47,
   "metadata": {},
   "outputs": [
    {
     "name": "stdout",
     "output_type": "stream",
     "text": [
      "x is greater than 2\n"
     ]
    }
   ],
   "source": [
    "greater_than_two(5)"
   ]
  },
  {
   "cell_type": "code",
   "execution_count": 48,
   "metadata": {},
   "outputs": [
    {
     "name": "stdout",
     "output_type": "stream",
     "text": [
      "x is less than 2\n"
     ]
    }
   ],
   "source": [
    "greater_than_two(1)"
   ]
  },
  {
   "cell_type": "markdown",
   "metadata": {},
   "source": [
    "Let's add a conditional statement to our `white_noise` function"
   ]
  },
  {
   "cell_type": "code",
   "execution_count": 49,
   "metadata": {
    "collapsed": true
   },
   "outputs": [],
   "source": [
    "def white_noise(mu, sigma, ts_length=100):\n",
    "    \n",
    "    epsilon_values = []   # An empty list\n",
    "    \n",
    "    for i in range(ts_length):\n",
    "        if i < ts_length // 2:            # First half of time series\n",
    "            e = normalvariate(mu, sigma)\n",
    "            epsilon_values.append(e)\n",
    "        else:                             # Second half of time series\n",
    "            e = normalvariate(mu, 10 * sigma)\n",
    "            epsilon_values.append(e)\n",
    "    plt.plot(epsilon_values)\n",
    "    plt.show()"
   ]
  },
  {
   "cell_type": "code",
   "execution_count": 50,
   "metadata": {},
   "outputs": [
    {
     "data": {
      "image/png": "[encoded data removed]",
      "text/plain": [
       "<matplotlib.figure.Figure at 0x118360588>"
      ]
     },
     "metadata": {},
     "output_type": "display_data"
    }
   ],
   "source": [
    "white_noise(0, 1)"
   ]
  },
  {
   "cell_type": "markdown",
   "metadata": {},
   "source": [
    "## Interactivity in Jupyter notebooks"
   ]
  },
  {
   "cell_type": "markdown",
   "metadata": {},
   "source": [
    "* The Jupyter notebook interface allows you to create *interactive* functions\n",
    "* These will be used in a few notebooks during the camp"
   ]
  },
  {
   "cell_type": "code",
   "execution_count": 51,
   "metadata": {},
   "outputs": [
    {
     "data": {
      "application/vnd.jupyter.widget-view+json": {
       "model_id": "e0bbe4500f59432ba09aa6f9c2f39c6c",
       "version_major": 2,
       "version_minor": 0
      },
      "text/plain": [
       "A Jupyter Widget"
      ]
     },
     "metadata": {},
     "output_type": "display_data"
    },
    {
     "data": {
      "text/plain": [
       "<function __main__.white_noise>"
      ]
     },
     "execution_count": 51,
     "metadata": {},
     "output_type": "execute_result"
    }
   ],
   "source": [
    "from ipywidgets import interact\n",
    "\n",
    "interact(white_noise, mu=0.0, sigma=(0, 10))"
   ]
  },
  {
   "cell_type": "markdown",
   "metadata": {},
   "source": [
    "### Exercise\n",
    "\n",
    "Create an interactive plot using your `generate_AR1` function\n",
    "* `mu` and `sigma` should take values between 0 and 5\n",
    "* `rho` should take values between 0 and 0.99, with steps of 0.01"
   ]
  },
  {
   "cell_type": "code",
   "execution_count": null,
   "metadata": {},
   "outputs": [],
   "source": []
  },
  {
   "cell_type": "markdown",
   "metadata": {},
   "source": [
    "<button data-toggle=\"collapse\" data-target=\"#sol6\" class='btn btn-primary'>Solution</button>\n",
    "<div id=\"sol6\" class=\"collapse\">\n",
    "```python\n",
    "interact(generate_AR1, mu=(0.0, 5), sigma=(0.0, 5), rho=(0, .99, 0.01))\n",
    "```"
   ]
  },
  {
   "cell_type": "markdown",
   "metadata": {},
   "source": [
    "## References and Reading\n",
    "\n",
    "1. https://lectures.quantecon.org/py/getting_started.html\n",
    "1. https://lectures.quantecon.org/py/python_by_example.html\n",
    "1. https://lectures.quantecon.org/py/python_essentials.html"
   ]
  },
  {
   "cell_type": "code",
   "execution_count": null,
   "metadata": {
    "collapsed": true
   },
   "outputs": [],
   "source": []
  }
 ],
 "metadata": {
  "anaconda-cloud": {},
  "kernelspec": {
   "display_name": "Python 3",
   "language": "python",
   "name": "python3"
  },
  "language_info": {
   "codemirror_mode": {
    "name": "ipython",
    "version": 3
   },
   "file_extension": ".py",
   "mimetype": "text/x-python",
   "name": "python",
   "nbconvert_exporter": "python",
   "pygments_lexer": "ipython3",
   "version": "3.6.2"
  },
  "toc": {
   "colors": {
    "hover_highlight": "#DAA520",
    "navigate_num": "#000000",
    "navigate_text": "#333333",
    "running_highlight": "#FF0000",
    "selected_highlight": "#FFD700",
    "sidebar_border": "#EEEEEE",
    "wrapper_background": "#FFFFFF"
   },
   "moveMenuLeft": true,
   "nav_menu": {
    "height": "361px",
    "width": "252px"
   },
   "navigate_menu": true,
   "number_sections": true,
   "sideBar": true,
   "threshold": 4,
   "toc_cell": false,
   "toc_section_display": "block",
   "toc_window_display": false,
   "widenNotebook": false
  }
 },
 "nbformat": 4,
 "nbformat_minor": 1
}
